{
  "nbformat": 4,
  "nbformat_minor": 0,
  "metadata": {
    "colab": {
      "name": "Untitled1.ipynb",
      "provenance": [],
      "collapsed_sections": []
    },
    "kernelspec": {
      "name": "python3",
      "display_name": "Python 3"
    }
  },
  "cells": [
    {
      "cell_type": "code",
      "metadata": {
        "id": "6R2Gjw1Gxm5-",
        "colab_type": "code",
        "colab": {}
      },
      "source": [
        "def add(x,y):\n",
        "  return x+y\n",
        "def sub(x,y):\n",
        "  return x-y\n",
        "def mul(x,y):\n",
        "   return x*y\n",
        "def divi (x,y):\n",
        "    return x/y\n",
        "print(\"select operation\")\n",
        "print(\"1.add\")\n",
        "print(\"2.subtract\")\n",
        "print(\"3.multiple\") \n",
        "print(\"4,divide\") \n",
        "while true:\n",
        "  choice=input(\"enter choice(1/2/3/4):\")\n",
        "  if choice in('1','2','3','4'):\n",
        "    num1=float(input(\"enter first number: \")) \n",
        "    num2=float(input(\"enter second number: \"))\n",
        "   if choice=='1':\n",
        "     print(num1, \"+\", num2,\"=\",add(num1,num2)) \n",
        "   elif choice=='2':\n",
        "     print(num1,\"-\",num2,\"=\",sub(num1,num2))\n",
        "   elif choice=='3':\n",
        "     print(num1,\"*\",num2,\"=\",mul(num1,num2))\n",
        "    elif choice=='4':\n",
        "      print(num1,\"/\",num2,\"=\",div(num1,num2))\n",
        "    break;\n",
        "    else:\n",
        "      print(\"invalid input\")      "
      ],
      "execution_count": null,
      "outputs": []
    }
  ]
}